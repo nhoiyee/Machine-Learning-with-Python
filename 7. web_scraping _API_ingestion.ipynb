{
 "cells": [
  {
   "cell_type": "markdown",
   "id": "fbbd7bfe",
   "metadata": {},
   "source": [
    "## web_scraping"
   ]
  },
  {
   "cell_type": "code",
   "execution_count": 1,
   "id": "1144a433",
   "metadata": {},
   "outputs": [],
   "source": [
    "import requests\n",
    "\n",
    "from bs4 import BeautifulSoup"
   ]
  },
  {
   "cell_type": "code",
   "execution_count": 2,
   "id": "37c6b0fe",
   "metadata": {},
   "outputs": [],
   "source": [
    "url= 'http://quotes.toscrape.com/'"
   ]
  },
  {
   "cell_type": "code",
   "execution_count": 3,
   "id": "b6604964",
   "metadata": {},
   "outputs": [],
   "source": [
    "response= requests.get(url) #send a get request to fetch the raw html content"
   ]
  },
  {
   "cell_type": "code",
   "execution_count": 7,
   "id": "1f767deb",
   "metadata": {},
   "outputs": [
    {
     "name": "stdout",
     "output_type": "stream",
     "text": [
      "“The world as we have created it is a process of our thinking. It cannot be changed without changing our thinking.” - Albert Einstein\n",
      "“It is our choices, Harry, that show what we truly are, far more than our abilities.” - J.K. Rowling\n",
      "“There are only two ways to live your life. One is as though nothing is a miracle. The other is as though everything is a miracle.” - Albert Einstein\n",
      "“The person, be it gentleman or lady, who has not pleasure in a good novel, must be intolerably stupid.” - Jane Austen\n",
      "“Imperfection is beauty, madness is genius and it's better to be absolutely ridiculous than absolutely boring.” - Marilyn Monroe\n",
      "“Try not to become a man of success. Rather become a man of value.” - Albert Einstein\n",
      "“It is better to be hated for what you are than to be loved for what you are not.” - André Gide\n",
      "“I have not failed. I've just found 10,000 ways that won't work.” - Thomas A. Edison\n",
      "“A woman is like a tea bag; you never know how strong it is until it's in hot water.” - Eleanor Roosevelt\n",
      "“A day without sunshine is like, you know, night.” - Steve Martin\n"
     ]
    }
   ],
   "source": [
    "soup= BeautifulSoup(response.text,'html.parser') #parse the html content using BeautifulSoup\n",
    "\n",
    "quotes_data= [] #empty list where the extracted quotes and authors will be stored\n",
    "\n",
    "for quote in soup.find_all('div',class_='quote'):\n",
    "\n",
    "    text=quote.find ('span', class_='text').text\n",
    "    author =quote.find ('small', class_='author').text\n",
    "    quotes_data.append ({'quote': text, 'author':author})# {'quote': text, 'author':author}\n",
    "\n",
    "for q in quotes_data:\n",
    "    \n",
    "    print(f\"{q['quote']} - {q['author']}\")"
   ]
  },
  {
   "cell_type": "markdown",
   "id": "bcfd68d4",
   "metadata": {},
   "source": [
    "## API ingestion"
   ]
  },
  {
   "cell_type": "code",
   "execution_count": 8,
   "id": "62afcda4",
   "metadata": {},
   "outputs": [],
   "source": [
    "api_url='http://api.openweathermap.org/data/2.5/weather?q=London&units=metric&appid=f4052a64d924e6095846db7bd7c400c3'"
   ]
  },
  {
   "cell_type": "code",
   "execution_count": 9,
   "id": "a10fa74b",
   "metadata": {},
   "outputs": [],
   "source": [
    "response = requests.get(api_url)"
   ]
  },
  {
   "cell_type": "code",
   "execution_count": 14,
   "id": "b106409b",
   "metadata": {},
   "outputs": [
    {
     "name": "stdout",
     "output_type": "stream",
     "text": [
      "raw API response:  {'coord': {'lon': -0.1257, 'lat': 51.5085}, 'weather': [{'id': 500, 'main': 'Rain', 'description': 'light rain', 'icon': '10n'}], 'base': 'stations', 'main': {'temp': 10.34, 'feels_like': 9.78, 'temp_min': 9.72, 'temp_max': 10.86, 'pressure': 1013, 'humidity': 90, 'sea_level': 1013, 'grnd_level': 1009}, 'visibility': 10000, 'wind': {'speed': 5.66, 'deg': 190}, 'rain': {'1h': 0.25}, 'clouds': {'all': 100}, 'dt': 1733366471, 'sys': {'type': 2, 'id': 2075535, 'country': 'GB', 'sunrise': 1733384986, 'sunset': 1733413986}, 'timezone': 0, 'id': 2643743, 'name': 'London', 'cod': 200}\n",
      "city: London\n",
      "temperature: no temp data C\n",
      "weather: no description\n"
     ]
    }
   ],
   "source": [
    "#check in the request was successful\n",
    "if response.status_code== 200:\n",
    "\n",
    "    weather_data = response.json()\n",
    "    #extract json data from the response\n",
    "\n",
    "    print('raw API response: ', weather_data)\n",
    "    city= weather_data.get('name', 'unknown city')\n",
    "    main_data= weather_data.get('main',{})\n",
    "    temp_celcius = weather_data.get('temp', 'no temp data')\n",
    "    weather = weather_data.get('weather',[{}])[0]\n",
    "    weather_description = weather_data.get('description', 'no description')\n",
    "\n",
    "\n",
    "    #print the weather details\n",
    "    print(f'city: {city}')\n",
    "    print(f'temperature: {temp_celcius} C')\n",
    "    print(f'weather: {weather_description}')\n",
    "\n",
    "else:\n",
    "    print(f'error fetching data fr API. status code: {response.status_code}')\n",
    "    print('response: ', response.text)\n"
   ]
  },
  {
   "cell_type": "code",
   "execution_count": null,
   "id": "a2830fe3",
   "metadata": {},
   "outputs": [],
   "source": []
  }
 ],
 "metadata": {
  "kernelspec": {
   "display_name": "Python 3 (ipykernel)",
   "language": "python",
   "name": "python3"
  },
  "language_info": {
   "codemirror_mode": {
    "name": "ipython",
    "version": 3
   },
   "file_extension": ".py",
   "mimetype": "text/x-python",
   "name": "python",
   "nbconvert_exporter": "python",
   "pygments_lexer": "ipython3",
   "version": "3.11.5"
  }
 },
 "nbformat": 4,
 "nbformat_minor": 5
}
