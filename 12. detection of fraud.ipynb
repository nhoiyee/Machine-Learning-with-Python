{
 "cells": [
  {
   "cell_type": "code",
   "execution_count": 1,
   "id": "152cad7f",
   "metadata": {},
   "outputs": [],
   "source": [
    "#dataset creation\n",
    "import pandas as pd\n",
    "from sklearn.datasets import make_classification\n",
    "from sklearn.model_selection import train_test_split"
   ]
  },
  {
   "cell_type": "code",
   "execution_count": 3,
   "id": "01625a75",
   "metadata": {},
   "outputs": [],
   "source": [
    "X, y = make_classification(\n",
    "\n",
    "n_samples=10000, #number of samples\n",
    "n_features=20, #total number of features\n",
    "n_informative=10, #number of informative features\n",
    "n_redundant= 5, #number of redundant features\n",
    "n_classes=2, #binary classification\n",
    "weights= [ 0.9,0.1], #imbalance in classes\n",
    "random_state=42\n",
    ")"
   ]
  },
  {
   "cell_type": "code",
   "execution_count": 7,
   "id": "918cf34d",
   "metadata": {},
   "outputs": [
    {
     "data": {
      "text/plain": [
       "array([[ 1.71680873,  0.4134728 , -1.14271127, ...,  0.37005944,\n",
       "         0.41041778,  1.39331973],\n",
       "       [-1.36895415,  1.1117695 ,  2.86947625, ...,  0.56414783,\n",
       "        -0.26122953,  0.81322509],\n",
       "       [ 0.75931228, -0.5107338 , -2.39041798, ..., -0.57849617,\n",
       "         5.20576477, -5.85639155],\n",
       "       ...,\n",
       "       [ 2.33219667,  0.36296404, -1.97840566, ..., -2.41645806,\n",
       "         2.74965494, -2.48019524],\n",
       "       [ 0.0365941 ,  1.52217738,  6.3477131 , ..., -0.91498035,\n",
       "         0.12358674, -3.49188144],\n",
       "       [ 0.85675672,  0.78254461, -0.81864194, ..., -1.30068551,\n",
       "        -0.16297446,  2.02091135]])"
      ]
     },
     "execution_count": 7,
     "metadata": {},
     "output_type": "execute_result"
    }
   ],
   "source": [
    "X"
   ]
  },
  {
   "cell_type": "code",
   "execution_count": 6,
   "id": "3c539b6e",
   "metadata": {},
   "outputs": [
    {
     "data": {
      "text/plain": [
       "array([0, 0, 1, ..., 0, 0, 0])"
      ]
     },
     "execution_count": 6,
     "metadata": {},
     "output_type": "execute_result"
    }
   ],
   "source": [
    "y"
   ]
  },
  {
   "cell_type": "code",
   "execution_count": 8,
   "id": "dc66f381",
   "metadata": {},
   "outputs": [
    {
     "name": "stdout",
     "output_type": "stream",
     "text": [
      "          0         1         2         3         4         5         6  \\\n",
      "0  2.278234 -1.077782  0.683749  1.258036  1.096891 -0.373797 -2.285019   \n",
      "1  0.207762  2.541868  2.669859  3.035471 -1.073374  0.991900  6.247372   \n",
      "2  1.356635 -0.334045 -1.913800 -1.376498 -1.673701 -1.081030 -0.137141   \n",
      "3  0.626707 -0.474721  0.581450  0.919342 -2.998093  0.834397  5.976509   \n",
      "4  0.339939 -0.018194 -2.381988  0.389720  2.783303  0.493958 -1.095447   \n",
      "\n",
      "          7         8         9  ...        11        12        13        14  \\\n",
      "0 -0.295547 -0.383005 -0.589401  ... -0.201196 -0.160192 -2.195265  0.092113   \n",
      "1  1.157270 -0.774492  2.154005  ...  0.214034  0.244108 -4.769822 -1.326939   \n",
      "2 -3.958890 -1.487756  1.188392  ... -0.657528 -0.747277 -0.531501 -0.657229   \n",
      "3  2.033002  1.063391  2.630003  ...  0.063876  1.520281 -1.955266 -0.423872   \n",
      "4 -2.181555 -0.884478  1.871163  ... -0.531785  0.363369 -5.204850 -0.626679   \n",
      "\n",
      "         15        16        17        18        19  is_fraud  \n",
      "0  1.314596 -2.318912  0.071647 -1.852452 -0.401747         0  \n",
      "1 -1.694261 -0.620019 -3.280303 -1.372475 -1.105875         0  \n",
      "2 -0.405363 -1.471728  2.316227 -2.542171  1.651090         0  \n",
      "3 -0.325015 -0.320863 -0.956035 -1.648506  1.447692         0  \n",
      "4 -1.053895 -1.203773 -0.297110 -1.212710  2.258752         0  \n",
      "\n",
      "[5 rows x 21 columns]\n"
     ]
    }
   ],
   "source": [
    "X_train, X_test, y_train, y_test = train_test_split(\n",
    "X, y, test_size=0.3, random_state=42)\n",
    "\n",
    "train_data= pd.DataFrame(X_train)\n",
    "train_data['is_fraud'] = y_train\n",
    "print(train_data.head())"
   ]
  },
  {
   "cell_type": "markdown",
   "id": "560295a8",
   "metadata": {},
   "source": [
    "### Random forest classifer"
   ]
  },
  {
   "cell_type": "code",
   "execution_count": 9,
   "id": "461ab04d",
   "metadata": {},
   "outputs": [
    {
     "name": "stdout",
     "output_type": "stream",
     "text": [
      "random forest classification report:\n",
      "               precision    recall  f1-score   support\n",
      "\n",
      "           0       0.95      1.00      0.97      2681\n",
      "           1       0.94      0.60      0.73       319\n",
      "\n",
      "    accuracy                           0.95      3000\n",
      "   macro avg       0.95      0.80      0.85      3000\n",
      "weighted avg       0.95      0.95      0.95      3000\n",
      "\n",
      "random forest classification accuracy: 0.9536666666666667\n"
     ]
    }
   ],
   "source": [
    "from sklearn.ensemble import RandomForestClassifier\n",
    "from sklearn.metrics import classification_report,accuracy_score\n",
    "\n",
    "rf_model=RandomForestClassifier(n_estimators=100, random_state=42)\n",
    "\n",
    "rf_model.fit(X_train,y_train)\n",
    "\n",
    "rf_predictions =rf_model.predict(X_test)\n",
    "\n",
    "print('random forest classification report:\\n', \n",
    "classification_report(y_test, rf_predictions))\n",
    "\n",
    "print('random forest classification accuracy:', \n",
    "accuracy_score(y_test, rf_predictions))"
   ]
  },
  {
   "cell_type": "markdown",
   "id": "7e0e465c",
   "metadata": {},
   "source": [
    "### Gradient Boosting Classifier"
   ]
  },
  {
   "cell_type": "code",
   "execution_count": 11,
   "id": "275e32e2",
   "metadata": {},
   "outputs": [
    {
     "name": "stdout",
     "output_type": "stream",
     "text": [
      "Gradient Boosting classification report:\n",
      "               precision    recall  f1-score   support\n",
      "\n",
      "           0       0.95      0.99      0.97      2681\n",
      "           1       0.89      0.55      0.68       319\n",
      "\n",
      "    accuracy                           0.95      3000\n",
      "   macro avg       0.92      0.77      0.83      3000\n",
      "weighted avg       0.94      0.95      0.94      3000\n",
      "\n",
      "Gradient Boosting accuracy: 0.9453333333333334\n"
     ]
    }
   ],
   "source": [
    "from sklearn.ensemble import GradientBoostingClassifier\n",
    "\n",
    "gb_model= GradientBoostingClassifier(n_estimators=100, learning_rate=0.1, random_state=42)\n",
    "gb_model.fit(X_train,y_train)\n",
    "\n",
    "gb_predictions =gb_model.predict(X_test)\n",
    "\n",
    "print('Gradient Boosting classification report:\\n', \n",
    "classification_report(y_test, gb_predictions))\n",
    "\n",
    "print('Gradient Boosting accuracy:', \n",
    "accuracy_score(y_test, gb_predictions))"
   ]
  },
  {
   "cell_type": "code",
   "execution_count": null,
   "id": "5e22af99",
   "metadata": {},
   "outputs": [],
   "source": []
  }
 ],
 "metadata": {
  "kernelspec": {
   "display_name": "Python 3 (ipykernel)",
   "language": "python",
   "name": "python3"
  },
  "language_info": {
   "codemirror_mode": {
    "name": "ipython",
    "version": 3
   },
   "file_extension": ".py",
   "mimetype": "text/x-python",
   "name": "python",
   "nbconvert_exporter": "python",
   "pygments_lexer": "ipython3",
   "version": "3.11.5"
  }
 },
 "nbformat": 4,
 "nbformat_minor": 5
}
